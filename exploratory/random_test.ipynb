{
 "cells": [
  {
   "cell_type": "markdown",
   "id": "224c3b95",
   "metadata": {},
   "source": [
    "# Packages"
   ]
  },
  {
   "cell_type": "code",
   "execution_count": null,
   "id": "58f20f16",
   "metadata": {},
   "outputs": [],
   "source": [
    "import GRN\n",
    "import GRNCreationUtils\n",
    "from utils import *\n",
    "from genesGroup import subgraph3N\n",
    "import pandas as pd\n",
    "import networkx as nx\n",
    "import matplotlib as plt"
   ]
  },
  {
   "cell_type": "markdown",
   "id": "c24184d7",
   "metadata": {},
   "source": [
    "# Functions"
   ]
  },
  {
   "cell_type": "code",
   "execution_count": null,
   "id": "035719f9",
   "metadata": {},
   "outputs": [],
   "source": [
    "import networkx as nx\n",
    "import itertools\n",
    "from collections import Counter\n",
    "from networkx.algorithms.isomorphism import DiGraphMatcher\n",
    "\n",
    "def generate_motif_templates():\n",
    "    \"\"\"Returns a dictionary of canonical 3-node motif templates.\"\"\"\n",
    "    templates = {}\n",
    "\n",
    "    def add_motif(name, edges):\n",
    "        G = nx.DiGraph()\n",
    "        G.add_edges_from(edges)\n",
    "        templates[name] = G\n",
    "\n",
    "    # Basic motif types (based on Alon 2002 classification)\n",
    "    add_motif(\"Fan-In\", [(1, 0), (2, 0)])\n",
    "    add_motif(\"Fan-Out\", [(0, 1), (0, 2)])\n",
    "    add_motif(\"Cascade\", [(0, 1), (1, 2)])\n",
    "    add_motif(\"FFL\", [(0, 1), (1, 2), (0, 2)])\n",
    "    add_motif(\"FBL\", [(0, 1), (1, 2), (2, 0)])\n",
    "    add_motif(\"Bi-Mutual\", [(0, 1), (1, 0), (1, 2), (2, 1)])\n",
    "    add_motif(\"Clique\", [(0, 1), (1, 0), (0, 2), (2, 0), (1, 2), (2, 1)])\n",
    "    # Add more motifs if needed\n",
    "\n",
    "    return templates\n",
    "\n",
    "\n",
    "def classify_subgraph(subG, motif_templates):\n",
    "    \"\"\"Matches a 3-node subgraph to a motif type using isomorphism.\"\"\"\n",
    "    for name, motifG in motif_templates.items():\n",
    "        matcher = DiGraphMatcher(subG, motifG)\n",
    "        if matcher.is_isomorphic():\n",
    "            return name\n",
    "    return \"Other\"\n",
    "\n",
    "\n",
    "def count_motifs(G):\n",
    "    \"\"\"\n",
    "    Enumerates and classifies all 3-node subgraphs in a directed graph.\n",
    "    \n",
    "    Returns:\n",
    "        motif_counts (Counter): motif type -> count\n",
    "    \"\"\"\n",
    "    motif_templates = generate_motif_templates()\n",
    "    motif_counts = Counter()\n",
    "    \n",
    "    for nodes in itertools.combinations(G.nodes, 3):\n",
    "        subG = G.subgraph(nodes).copy()\n",
    "        if nx.is_weakly_connected(subG):  # Optional: only count connected\n",
    "            motif_type = classify_subgraph(subG, motif_templates)\n",
    "            motif_counts[motif_type] += 1\n",
    "\n",
    "    return motif_counts\n",
    "\n",
    "\n",
    "def randomize_graph(G, n_swaps=1000, seed=None):\n",
    "    \"\"\"\n",
    "    Returns a randomized version of the graph preserving in/out-degree distribution.\n",
    "    Uses the Maslov-Sneppen edge-rewiring algorithm.\n",
    "    \"\"\"\n",
    "    G_rand = G.copy()\n",
    "    nx.double_edge_swap(G_rand, n_swaps=n_swaps, max_tries=n_swaps * 10, seed=seed)\n",
    "    return G_rand"
   ]
  }
 ],
 "metadata": {
  "kernelspec": {
   "display_name": "venv_grnsim",
   "language": "python",
   "name": "python3"
  },
  "language_info": {
   "name": "python",
   "version": "3.10.14"
  }
 },
 "nbformat": 4,
 "nbformat_minor": 5
}
